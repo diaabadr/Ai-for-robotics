{
 "cells": [
  {
   "cell_type": "markdown",
   "metadata": {},
   "source": [
    "# Pandas Practice\n",
    "\n",
    "This notebook is dedicated to practicing different tasks with pandas. The solutions are available,  however, you should always try to figure them out yourself first.\n",
    "\n",
    "It should be noted there may be more than one different way to answer a question or complete an exercise.\n",
    "\n",
    "Different tasks will be detailed by comments or text.\n",
    "\n",
    "For further reference and resources, it's advised to check out the [pandas documentation](https://pandas.pydata.org/pandas-docs/stable/)."
   ]
  },
  {
   "cell_type": "code",
   "execution_count": 136,
   "metadata": {},
   "outputs": [],
   "source": [
    "# Import pandas\n",
    "import pandas as pd"
   ]
  },
  {
   "cell_type": "code",
   "execution_count": 137,
   "metadata": {},
   "outputs": [],
   "source": [
    "# Create a series of three different colours\n",
    "colors = ['red', 'green', 'blue']\n"
   ]
  },
  {
   "cell_type": "code",
   "execution_count": 138,
   "metadata": {},
   "outputs": [
    {
     "name": "stdout",
     "output_type": "stream",
     "text": [
      "['red', 'green', 'blue']\n"
     ]
    }
   ],
   "source": [
    "# View the series of different colours\n",
    "print(colors)"
   ]
  },
  {
   "cell_type": "code",
   "execution_count": 139,
   "metadata": {},
   "outputs": [
    {
     "name": "stdout",
     "output_type": "stream",
     "text": [
      "['bmw', 'mercedes', 'audi']\n"
     ]
    }
   ],
   "source": [
    "# Create a series of three different car types and view it\n",
    "cars = ['bmw','mercedes','audi']\n",
    "print(cars)"
   ]
  },
  {
   "cell_type": "code",
   "execution_count": 140,
   "metadata": {},
   "outputs": [],
   "source": [
    "# Combine the Series of cars and colours into a DataFrame\n",
    "df = pd.DataFrame({'Car Type': cars, 'Color': colors})\n"
   ]
  },
  {
   "cell_type": "code",
   "execution_count": 141,
   "metadata": {},
   "outputs": [],
   "source": [
    "# Import \"../data/car-sales.csv\" and turn it into a DataFrame\n",
    "car_sales = pd.read_csv('./data/car-sales.csv')\n"
   ]
  },
  {
   "cell_type": "code",
   "execution_count": 142,
   "metadata": {},
   "outputs": [],
   "source": [
    "# Export the DataFrame you created to a .csv file\n",
    "car_sales.to_csv(\"./data/car-sales2.csv\")\n"
   ]
  },
  {
   "cell_type": "code",
   "execution_count": 143,
   "metadata": {},
   "outputs": [],
   "source": [
    "# Find the different datatypes of the car data DataFrame\n",
    "data_types = car_sales.dtypes\n"
   ]
  },
  {
   "cell_type": "code",
   "execution_count": 144,
   "metadata": {},
   "outputs": [],
   "source": [
    "# Describe your current car sales DataFrame using describe()\n",
    "description = car_sales.describe()\n"
   ]
  },
  {
   "cell_type": "code",
   "execution_count": 145,
   "metadata": {},
   "outputs": [
    {
     "name": "stdout",
     "output_type": "stream",
     "text": [
      "<class 'pandas.core.frame.DataFrame'>\n",
      "RangeIndex: 10 entries, 0 to 9\n",
      "Data columns (total 5 columns):\n",
      " #   Column         Non-Null Count  Dtype \n",
      "---  ------         --------------  ----- \n",
      " 0   Make           10 non-null     object\n",
      " 1   Colour         10 non-null     object\n",
      " 2   Odometer (KM)  10 non-null     int64 \n",
      " 3   Doors          10 non-null     int64 \n",
      " 4   Price          10 non-null     object\n",
      "dtypes: int64(2), object(3)\n",
      "memory usage: 528.0+ bytes\n"
     ]
    }
   ],
   "source": [
    "# Get information about your DataFrame using info()\n",
    "data_info = car_sales.info()\n"
   ]
  },
  {
   "cell_type": "markdown",
   "metadata": {},
   "source": [
    "What does it show you?"
   ]
  },
  {
   "cell_type": "code",
   "execution_count": 146,
   "metadata": {},
   "outputs": [],
   "source": [
    "# Create a Series of different numbers and find the mean of them\n",
    "numbers = pd.Series([10, 20, 30, 40, 50])\n",
    "mean_value = numbers.mean()\n"
   ]
  },
  {
   "cell_type": "code",
   "execution_count": 147,
   "metadata": {},
   "outputs": [],
   "source": [
    "# Create a Series of different numbers and find the sum of them\n",
    "numbers = pd.Series([10, 20, 30, 40, 50])\n",
    "mean_value = numbers.sum()"
   ]
  },
  {
   "cell_type": "code",
   "execution_count": 148,
   "metadata": {},
   "outputs": [],
   "source": [
    "# List out all the column names of the car sales DataFrame\n",
    "column_names = car_sales.columns.tolist()\n"
   ]
  },
  {
   "cell_type": "code",
   "execution_count": 149,
   "metadata": {},
   "outputs": [],
   "source": [
    "# Find the length of the car sales DataFrame\n",
    "data_length = len(car_sales)\n"
   ]
  },
  {
   "cell_type": "code",
   "execution_count": 150,
   "metadata": {},
   "outputs": [],
   "source": [
    "# Show the first 5 rows of the car sales DataFrame\n",
    "first_5_rows = car_sales.head(5)\n"
   ]
  },
  {
   "cell_type": "code",
   "execution_count": 151,
   "metadata": {},
   "outputs": [],
   "source": [
    "# Show the first 7 rows of the car sales DataFrame\n",
    "first_7_rows = car_sales.head(7)\n"
   ]
  },
  {
   "cell_type": "code",
   "execution_count": 152,
   "metadata": {},
   "outputs": [],
   "source": [
    "# Show the bottom 5 rows of the car sales DataFrame\n",
    "last_5_rows = car_sales.tail()\n"
   ]
  },
  {
   "cell_type": "code",
   "execution_count": 153,
   "metadata": {},
   "outputs": [],
   "source": [
    "# Use .loc to select the row at index 3 of the car sales DataFrame\n",
    "row_at_index_3 = car_sales.loc[3]\n"
   ]
  },
  {
   "cell_type": "code",
   "execution_count": 154,
   "metadata": {},
   "outputs": [],
   "source": [
    "# Use .iloc to select the row at position 3 of the car sales DataFrame\n",
    "row_at_position_3 = car_sales.iloc[3]\n"
   ]
  },
  {
   "cell_type": "markdown",
   "metadata": {},
   "source": [
    "Notice how they're the same? Why do you think this is? \n",
    "\n",
    "Check the pandas documentation for [.loc](https://pandas.pydata.org/pandas-docs/stable/reference/api/pandas.DataFrame.loc.html) and [.iloc](https://pandas.pydata.org/pandas-docs/stable/reference/api/pandas.DataFrame.iloc.html). Think about a different situation each could be used for and try them out."
   ]
  },
  {
   "cell_type": "code",
   "execution_count": 155,
   "metadata": {},
   "outputs": [],
   "source": [
    "# Select the \"Odometer (KM)\" column from the car sales DataFrame\n",
    "odometer_column = car_sales[\"Odometer (KM)\"]\n"
   ]
  },
  {
   "cell_type": "code",
   "execution_count": 156,
   "metadata": {},
   "outputs": [],
   "source": [
    "# Find the mean of the \"Odometer (KM)\" column in the car sales DataFrame\n",
    "mean_odometer = odometer_column.mean()"
   ]
  },
  {
   "cell_type": "code",
   "execution_count": 157,
   "metadata": {},
   "outputs": [],
   "source": [
    "# Select the rows with over 100,000 kilometers on the Odometer\n",
    "over_100k_odometer = car_sales[odometer_column > 100000]\n"
   ]
  },
  {
   "cell_type": "code",
   "execution_count": 158,
   "metadata": {},
   "outputs": [],
   "source": [
    "# Create a crosstab of the Make and Doors columns\n",
    "crosstab_result = pd.crosstab(car_sales['Make'], car_sales['Doors'])"
   ]
  },
  {
   "cell_type": "code",
   "execution_count": 159,
   "metadata": {},
   "outputs": [],
   "source": [
    "# Group columns of the car sales DataFrame by the Make column and find the average\n",
    "\n"
   ]
  },
  {
   "cell_type": "code",
   "execution_count": 160,
   "metadata": {},
   "outputs": [
    {
     "data": {
      "text/plain": [
       "[<matplotlib.lines.Line2D at 0x7f4878f84e80>]"
      ]
     },
     "execution_count": 160,
     "metadata": {},
     "output_type": "execute_result"
    },
    {
     "data": {
      "image/png": "[encoded data removed]",
      "text/plain": [
       "<Figure size 640x480 with 1 Axes>"
      ]
     },
     "metadata": {},
     "output_type": "display_data"
    }
   ],
   "source": [
    "# Import Matplotlib and create a plot of the Odometer column\n",
    "# Don't forget to use %matplotlib inline\n",
    "import matplotlib.pyplot as plt\n",
    "%matplotlib inline\n",
    "\n",
    "plt.plot(car_sales['Odometer (KM)'])\n"
   ]
  },
  {
   "cell_type": "code",
   "execution_count": 161,
   "metadata": {},
   "outputs": [
    {
     "data": {
      "text/plain": [
       "(array([1., 3., 2., 1., 1., 0., 1., 0., 0., 1.]),\n",
       " array([ 11179. ,  31370.6,  51562.2,  71753.8,  91945.4, 112137. ,\n",
       "        132328.6, 152520.2, 172711.8, 192903.4, 213095. ]),\n",
       " <BarContainer object of 10 artists>)"
      ]
     },
     "execution_count": 161,
     "metadata": {},
     "output_type": "execute_result"
    },
    {
     "data": {
      "image/png": "[encoded data removed]",
      "text/plain": [
       "<Figure size 640x480 with 1 Axes>"
      ]
     },
     "metadata": {},
     "output_type": "display_data"
    }
   ],
   "source": [
    "# Create a histogram of the Odometer column using hist()\n",
    "plt.hist(car_sales['Odometer (KM)'])"
   ]
  },
  {
   "cell_type": "code",
   "execution_count": 162,
   "metadata": {},
   "outputs": [
    {
     "data": {
      "text/plain": [
       "[<matplotlib.lines.Line2D at 0x7f487c67a9e0>]"
      ]
     },
     "execution_count": 162,
     "metadata": {},
     "output_type": "execute_result"
    },
    {
     "data": {
      "image/png": "[encoded data removed]",
      "text/plain": [
       "<Figure size 640x480 with 1 Axes>"
      ]
     },
     "metadata": {},
     "output_type": "display_data"
    }
   ],
   "source": [
    "# Try to plot the Price column using plot()\n",
    "plt.plot(car_sales['Price'])"
   ]
  },
  {
   "cell_type": "markdown",
   "metadata": {},
   "source": [
    "Why didn't it work? Can you think of a solution?\n",
    "\n",
    "You might want to search for \"how to convert a pandas string column to numbers\".\n",
    "\n",
    "And if you're still stuck, check out this [Stack Overflow question and answer on turning a price column into integers](https://stackoverflow.com/questions/44469313/price-column-object-to-int-in-pandas).\n",
    "\n",
    "See how you can provide the example code there to the problem here."
   ]
  },
  {
   "cell_type": "code",
   "execution_count": 163,
   "metadata": {},
   "outputs": [
    {
     "name": "stdout",
     "output_type": "stream",
     "text": [
      "0     4000.00\n",
      "1     5000.00\n",
      "2     7000.00\n",
      "3    22000.00\n",
      "4     3500.00\n",
      "5     4500.00\n",
      "6     7500.00\n",
      "7     7000.00\n",
      "8     6250.00\n",
      "9     9700.00\n",
      "Name: Price, dtype: object\n"
     ]
    }
   ],
   "source": [
    "# Remove the punctuation from price column\n",
    "car_sales['Price'] = car_sales['Price'].str.replace('$', '')\n",
    "car_sales['Price'] = car_sales['Price'].str.replace(',', '')\n",
    "\n",
    "print(car_sales['Price'])"
   ]
  },
  {
   "cell_type": "code",
   "execution_count": 164,
   "metadata": {},
   "outputs": [
    {
     "name": "stdout",
     "output_type": "stream",
     "text": [
      "0     4000.00\n",
      "1     5000.00\n",
      "2     7000.00\n",
      "3    22000.00\n",
      "4     3500.00\n",
      "5     4500.00\n",
      "6     7500.00\n",
      "7     7000.00\n",
      "8     6250.00\n",
      "9     9700.00\n",
      "Name: Price, dtype: object\n"
     ]
    }
   ],
   "source": [
    "# Check the changes to the price column\n",
    "print(car_sales['Price'])"
   ]
  },
  {
   "cell_type": "code",
   "execution_count": 165,
   "metadata": {},
   "outputs": [],
   "source": [
    "# Remove the two extra zeros at the end of the price column\n",
    "car_sales['Price'] = car_sales['Price'].str[:-3]\n"
   ]
  },
  {
   "cell_type": "code",
   "execution_count": 166,
   "metadata": {},
   "outputs": [
    {
     "name": "stdout",
     "output_type": "stream",
     "text": [
      "0     4000\n",
      "1     5000\n",
      "2     7000\n",
      "3    22000\n",
      "4     3500\n",
      "5     4500\n",
      "6     7500\n",
      "7     7000\n",
      "8     6250\n",
      "9     9700\n",
      "Name: Price, dtype: object\n"
     ]
    }
   ],
   "source": [
    "# Check the changes to the Price column\n",
    "print(car_sales['Price'])"
   ]
  },
  {
   "cell_type": "code",
   "execution_count": 167,
   "metadata": {},
   "outputs": [],
   "source": [
    "# Change the datatype of the Price column to integers\n",
    "car_sales['Price'] = car_sales['Price'].astype(int)\n"
   ]
  },
  {
   "cell_type": "code",
   "execution_count": 169,
   "metadata": {},
   "outputs": [
    {
     "name": "stdout",
     "output_type": "stream",
     "text": [
      "0    toyota\n",
      "1     honda\n",
      "2    toyota\n",
      "3       bmw\n",
      "4    nissan\n",
      "5    toyota\n",
      "6     honda\n",
      "7     honda\n",
      "8    toyota\n",
      "9    nissan\n",
      "Name: Make, dtype: object\n"
     ]
    }
   ],
   "source": [
    "# Lower the strings of the Make column\n",
    "car_sales['Make'] = car_sales['Make'].str.lower()\n",
    "print(car_sales['Make'])"
   ]
  },
  {
   "cell_type": "markdown",
   "metadata": {},
   "source": [
    "If you check the car sales DataFrame, you'll notice the Make column hasn't been lowered.\n",
    "\n",
    "How could you make these changes permanent?\n",
    "\n",
    "Try it out."
   ]
  },
  {
   "cell_type": "code",
   "execution_count": 34,
   "metadata": {},
   "outputs": [],
   "source": [
    "# Make lowering the case of the Make column permanent\n",
    "## it worked at the previous step"
   ]
  },
  {
   "cell_type": "code",
   "execution_count": 170,
   "metadata": {},
   "outputs": [
    {
     "name": "stdout",
     "output_type": "stream",
     "text": [
      "0    toyota\n",
      "1     honda\n",
      "2    toyota\n",
      "3       bmw\n",
      "4    nissan\n",
      "5    toyota\n",
      "6     honda\n",
      "7     honda\n",
      "8    toyota\n",
      "9    nissan\n",
      "Name: Make, dtype: object\n"
     ]
    }
   ],
   "source": [
    "# Check the car sales DataFrame\n",
    "print(car_sales['Make'])"
   ]
  },
  {
   "cell_type": "markdown",
   "metadata": {},
   "source": [
    "Notice how the Make column stays lowered after reassigning.\n",
    "\n",
    "Now let's deal with missing data."
   ]
  },
  {
   "cell_type": "code",
   "execution_count": 172,
   "metadata": {},
   "outputs": [
    {
     "name": "stdout",
     "output_type": "stream",
     "text": [
      "     Make Colour  Odometer  Doors    Price\n",
      "0  Toyota  White  150043.0    4.0   $4,000\n",
      "1   Honda    Red   87899.0    4.0   $5,000\n",
      "2  Toyota   Blue       NaN    3.0   $7,000\n",
      "3     BMW  Black   11179.0    5.0  $22,000\n",
      "4  Nissan  White  213095.0    4.0   $3,500\n",
      "5  Toyota  Green       NaN    4.0   $4,500\n",
      "6   Honda    NaN       NaN    4.0   $7,500\n",
      "7   Honda   Blue       NaN    4.0      NaN\n",
      "8  Toyota  White   60000.0    NaN      NaN\n",
      "9     NaN  White   31600.0    4.0   $9,700\n"
     ]
    }
   ],
   "source": [
    "# Import the car sales DataFrame with missing data (\"../data/car-sales-missing-data.csv\")\n",
    "car_sales_missing = pd.read_csv('./data/car-sales-missing-data.csv')\n",
    "\n",
    "# Check out the new DataFrame\n",
    "print(car_sales_missing)"
   ]
  },
  {
   "cell_type": "markdown",
   "metadata": {},
   "source": [
    "Notice the missing values are represented as `NaN` in pandas DataFrames.\n",
    "\n",
    "Let's try fill them."
   ]
  },
  {
   "cell_type": "code",
   "execution_count": 173,
   "metadata": {},
   "outputs": [],
   "source": [
    "# Fill the Odometer column missing values with the mean of the column inplace\n",
    "odometer_mean = car_sales_missing['Odometer'].mean()\n",
    "car_sales_missing['Odometer'].fillna(odometer_mean, inplace=True)\n"
   ]
  },
  {
   "cell_type": "code",
   "execution_count": 174,
   "metadata": {},
   "outputs": [
    {
     "name": "stdout",
     "output_type": "stream",
     "text": [
      "     Make Colour       Odometer  Doors    Price\n",
      "0  Toyota  White  150043.000000    4.0   $4,000\n",
      "1   Honda    Red   87899.000000    4.0   $5,000\n",
      "2  Toyota   Blue   92302.666667    3.0   $7,000\n",
      "3     BMW  Black   11179.000000    5.0  $22,000\n",
      "4  Nissan  White  213095.000000    4.0   $3,500\n",
      "5  Toyota  Green   92302.666667    4.0   $4,500\n",
      "6   Honda    NaN   92302.666667    4.0   $7,500\n",
      "7   Honda   Blue   92302.666667    4.0      NaN\n",
      "8  Toyota  White   60000.000000    NaN      NaN\n",
      "9     NaN  White   31600.000000    4.0   $9,700\n"
     ]
    }
   ],
   "source": [
    "# View the car sales missing DataFrame and verify the changes\n",
    "print(car_sales_missing)\n"
   ]
  },
  {
   "cell_type": "code",
   "execution_count": 175,
   "metadata": {},
   "outputs": [],
   "source": [
    "# Remove the rest of the missing data inplace\n",
    "car_sales_missing.dropna(inplace=True)\n"
   ]
  },
  {
   "cell_type": "code",
   "execution_count": 176,
   "metadata": {},
   "outputs": [
    {
     "name": "stdout",
     "output_type": "stream",
     "text": [
      "     Make Colour       Odometer  Doors    Price\n",
      "0  Toyota  White  150043.000000    4.0   $4,000\n",
      "1   Honda    Red   87899.000000    4.0   $5,000\n",
      "2  Toyota   Blue   92302.666667    3.0   $7,000\n",
      "3     BMW  Black   11179.000000    5.0  $22,000\n",
      "4  Nissan  White  213095.000000    4.0   $3,500\n",
      "5  Toyota  Green   92302.666667    4.0   $4,500\n"
     ]
    }
   ],
   "source": [
    "# Verify the missing values are removed by viewing the DataFrame\n",
    "print(car_sales_missing)"
   ]
  },
  {
   "cell_type": "markdown",
   "metadata": {},
   "source": [
    "We'll now start to add columns to our DataFrame."
   ]
  },
  {
   "cell_type": "code",
   "execution_count": 177,
   "metadata": {},
   "outputs": [],
   "source": [
    "# Create a \"Seats\" column where every row has a value of 5\n",
    "car_sales_missing['Seats'] = 5\n"
   ]
  },
  {
   "cell_type": "code",
   "execution_count": 181,
   "metadata": {},
   "outputs": [],
   "source": [
    "# Create a column called \"Engine Size\" with random values between 1.3 and 4.5\n",
    "# Remember: If you're doing it from a Python list, the list has to be the same length\n",
    "# as the DataFrame\n",
    "import numpy as np\n",
    "car_sales_missing['Engine Size'] = np.random.uniform(1.3, 4.5, size=len(car_sales_missing))\n"
   ]
  },
  {
   "cell_type": "code",
   "execution_count": 183,
   "metadata": {},
   "outputs": [],
   "source": [
    "# Create a column which represents the price of a car per kilometer\n",
    "# Then view the DataFrame\n",
    "car_sales_missing['Price'] = car_sales_missing['Price'].str.replace('$', '')\n",
    "car_sales_missing['Price'] = car_sales_missing['Price'].str.replace(',', '').astype(int)\n",
    "car_sales_missing['Price per Kilometer'] = car_sales_missing['Price'] / car_sales_missing['Odometer']\n"
   ]
  },
  {
   "cell_type": "code",
   "execution_count": 184,
   "metadata": {},
   "outputs": [],
   "source": [
    "# Remove the last column you added using .drop()\n",
    "car_sales_missing.drop(columns=['Price per Kilometer'], inplace=True)\n"
   ]
  },
  {
   "cell_type": "code",
   "execution_count": 185,
   "metadata": {},
   "outputs": [],
   "source": [
    "# Shuffle the DataFrame using sample() with the frac parameter set to 1\n",
    "# Save the the shuffled DataFrame to a new variable\n",
    "shuffled_car_sales = car_sales_missing.sample(frac=1, random_state=42)\n"
   ]
  },
  {
   "cell_type": "markdown",
   "metadata": {},
   "source": [
    "Notice how the index numbers get moved around. The [`sample()`](https://pandas.pydata.org/pandas-docs/stable/reference/api/pandas.DataFrame.sample.html) function is a great way to get random samples from your DataFrame. It's also another great way to shuffle the rows by setting `frac=1`."
   ]
  },
  {
   "cell_type": "code",
   "execution_count": 186,
   "metadata": {},
   "outputs": [],
   "source": [
    "# Reset the indexes of the shuffled DataFrame\n",
    "shuffled_car_sales.reset_index(drop=True, inplace=True)\n"
   ]
  },
  {
   "cell_type": "markdown",
   "metadata": {},
   "source": [
    "Notice the index numbers have been changed to have order (start from 0)."
   ]
  },
  {
   "cell_type": "code",
   "execution_count": 187,
   "metadata": {},
   "outputs": [
    {
     "name": "stdout",
     "output_type": "stream",
     "text": [
      "     Make Colour       Odometer  Doors  Price  Seats  Engine Size\n",
      "0  Toyota  White   93232.368953    4.0   4000      5     3.963816\n",
      "1   Honda    Red   54617.889529    4.0   5000      5     1.979485\n",
      "2  Toyota  Green   57354.200289    4.0   4500      5     2.979221\n",
      "3  Toyota   Blue   57354.200289    3.0   7000      5     1.881840\n",
      "4  Nissan  White  132411.053245    4.0   3500      5     2.273575\n",
      "5     BMW  Black    6946.306409    5.0  22000      5     1.886894\n"
     ]
    }
   ],
   "source": [
    "# Change the Odometer values from kilometers to miles using a Lambda function\n",
    "# Then view the DataFrame\n",
    "km_to_miles = lambda x: x * 0.621371\n",
    "shuffled_car_sales['Odometer'] = shuffled_car_sales['Odometer'].apply(km_to_miles)\n",
    "print(shuffled_car_sales)\n"
   ]
  },
  {
   "cell_type": "code",
   "execution_count": 48,
   "metadata": {},
   "outputs": [],
   "source": [
    "# Change the title Rof the Odometer (KM) to represent miles instead of kilometers\n",
    "shuffled_car_sales.rename(columns={'Odometer': 'Odometer (Miles)'}, inplace=True)\n"
   ]
  },
  {
   "cell_type": "markdown",
   "metadata": {},
   "source": [
    "## Extensions\n",
    "\n",
    "For more exercises, check out the pandas documentation, particularly the [10-minutes to pandas section](https://pandas.pydata.org/pandas-docs/stable/user_guide/10min.html). \n",
    "\n",
    "One great exercise would be to retype out the entire section into a Jupyter Notebook of your own.\n",
    "\n",
    "Get hands-on with the code and see what it does.\n",
    "\n",
    "The next place you should check out are the [top questions and answers on Stack Overflow for pandas](https://stackoverflow.com/questions/tagged/pandas?sort=MostVotes&edited=true). Often, these contain some of the most useful and common pandas functions. Be sure to play around with the different filters!\n",
    "\n",
    "Finally, always remember, the best way to learn something new to is try it. Make mistakes. Ask questions, get things wrong, take note of the things you do most often. And don't worry if you keep making the same mistake, pandas has many ways to do the same thing and is a big library. So it'll likely take a while before you get the hang of it."
   ]
  }
 ],
 "metadata": {
  "kernelspec": {
   "display_name": "Python 3",
   "language": "python",
   "name": "python3"
  },
  "language_info": {
   "codemirror_mode": {
    "name": "ipython",
    "version": 3
   },
   "file_extension": ".py",
   "mimetype": "text/x-python",
   "name": "python",
   "nbconvert_exporter": "python",
   "pygments_lexer": "ipython3",
   "version": "3.10.12"
  }
 },
 "nbformat": 4,
 "nbformat_minor": 2
}
